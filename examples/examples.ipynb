{
 "cells": [
  {
   "cell_type": "code",
   "execution_count": 3,
   "metadata": {},
   "outputs": [
    {
     "name": "stdout",
     "output_type": "stream",
     "text": [
      "/Users/tianyizhang/cse583\n"
     ]
    }
   ],
   "source": [
    "#This file contains use examples for Aviation Accident Data Visualizer package\n",
    "#import preprocess and DataManagement modules\n",
    "import os\n",
    "os.chdir(os.path.dirname(os.path.abspath('')))\n",
    "print(os.getcwd())\n",
    "import aadv.modules.preprocess as pre\n",
    "import aadv.modules.data_management as dm\n",
    "import aadv.modules.visualizer as vis\n",
    "import pandas as pd"
   ]
  },
  {
   "cell_type": "code",
   "execution_count": 4,
   "metadata": {},
   "outputs": [
    {
     "name": "stdout",
     "output_type": "stream",
     "text": [
      "  AccidentNumber AirCarrier AircraftCategory AircraftDamage AirportCode  \\\n",
      "0     CEN20LA015        NaN         Airplane      Destroyed        6MN9   \n",
      "1     GAA20CA051        NaN         Airplane    Substantial         FA1   \n",
      "2     CEN20LA014        NaN         Airplane    Substantial         NaN   \n",
      "3    CEN20FA012B        NaN       Helicopter    Substantial         NaN   \n",
      "4    CEN20FA012A        NaN       Helicopter      Destroyed         NaN   \n",
      "5     CEN20LA013        NaN         Airplane          Minor         NaN   \n",
      "6     GAA20CA044        NaN        Gyroplane    Substantial         BKV   \n",
      "7     GAA20CA041        NaN         Airplane    Substantial        MA55   \n",
      "8     GAA20CA040        NaN         Airplane    Substantial         NaN   \n",
      "9     GAA20CA038        NaN         Airplane    Substantial         NaN   \n",
      "\n",
      "                  AirportName AmateurBuilt BroadPhaseOfFlight        Country  \\\n",
      "0                      BENSON           No            TAKEOFF  United States   \n",
      "1                     Tavares          Yes                NaN  United States   \n",
      "2                         NaN           No             CRUISE  United States   \n",
      "3                         NaN           No        MANEUVERING  United States   \n",
      "4                         NaN           No        MANEUVERING  United States   \n",
      "5                         NaN           No        MANEUVERING  United States   \n",
      "6  Brooksville-Tampa Bay Rgnl          Yes                NaN  United States   \n",
      "7             Muskeget Island           No                NaN  United States   \n",
      "8                         NaN          Yes                NaN  United States   \n",
      "9                         NaN           No                NaN  United States   \n",
      "\n",
      "      EngineType  ...      PurposeOfFlight RegistrationNumber ReportStatus  \\\n",
      "0  Reciprocating  ...             Personal             N2621P  Preliminary   \n",
      "1            NaN  ...             Personal             N170AV  Preliminary   \n",
      "2  Reciprocating  ...             Personal             N1443E  Preliminary   \n",
      "3  Reciprocating  ...             Business             N74512  Preliminary   \n",
      "4  Reciprocating  ...             Business             N7189D  Preliminary   \n",
      "5     Turbo Prop  ...   Aerial Application             N9143F      Factual   \n",
      "6            NaN  ...             Personal             N147AR  Preliminary   \n",
      "7            NaN  ...             Personal             N1052T  Preliminary   \n",
      "8            NaN  ...             Personal             C-GPMT  Preliminary   \n",
      "9            NaN  ...        Instructional             N637FT  Preliminary   \n",
      "\n",
      "  Schedule TotalFatalInjuries  TotalMinorInjuries TotalSeriousInjuries  \\\n",
      "0      NaN                NaN                 NaN                  1.0   \n",
      "1      NaN                NaN                 NaN                  NaN   \n",
      "2      NaN                NaN                 1.0                  NaN   \n",
      "3      NaN                2.0                 NaN                  1.0   \n",
      "4      NaN                2.0                 NaN                  1.0   \n",
      "5      NaN                NaN                 NaN                  1.0   \n",
      "6      NaN                NaN                 NaN                  NaN   \n",
      "7      NaN                NaN                 NaN                  NaN   \n",
      "8      NaN                NaN                 NaN                  NaN   \n",
      "9      NaN                NaN                 NaN                  NaN   \n",
      "\n",
      "   TotalUninjured WeatherCondition State  \n",
      "0             NaN              VMC    MN  \n",
      "1             NaN              NaN    FL  \n",
      "2             NaN              VMC    IA  \n",
      "3             1.0              VMC    TX  \n",
      "4             1.0              VMC    TX  \n",
      "5             1.0              VMC    TX  \n",
      "6             1.0              VMC    FL  \n",
      "7             NaN              NaN    MA  \n",
      "8             1.0              NaN    NV  \n",
      "9             2.0              NaN    FL  \n",
      "\n",
      "[10 rows x 32 columns]\n"
     ]
    }
   ],
   "source": [
    "#obtain cleaned dataframe\n",
    "df = pre.dataset()\n",
    "print(df.head(10))"
   ]
  },
  {
   "cell_type": "code",
   "execution_count": 5,
   "metadata": {},
   "outputs": [
    {
     "name": "stdout",
     "output_type": "stream",
     "text": [
      "      State  TotalUninjured\n",
      "97       AK             3.0\n",
      "98       AK             2.0\n",
      "123      AK             2.0\n",
      "172      AK             2.0\n",
      "176      AK             2.0\n",
      "205      AK             2.0\n",
      "241      AK             2.0\n",
      "346      AK             3.0\n",
      "347      AK             2.0\n",
      "366      AK             2.0\n",
      "396      AK             2.0\n",
      "437      AK             5.0\n",
      "490      AK             4.0\n",
      "502      AK             5.0\n",
      "544      AK             3.0\n",
      "574      AK             5.0\n",
      "617      AK             2.0\n",
      "625      AK             2.0\n",
      "655      AK             2.0\n",
      "690      AK             2.0\n",
      "722      AK             2.0\n",
      "812      AK             2.0\n",
      "877      AK             2.0\n",
      "892      AK             6.0\n",
      "962      AK             4.0\n",
      "987      AK             3.0\n",
      "1026     AK             5.0\n",
      "1038     AK             2.0\n",
      "1144     AK             2.0\n",
      "1269     AK             2.0\n",
      "...     ...             ...\n",
      "82401    AK             2.0\n",
      "82413    AK             4.0\n",
      "82424    AK            10.0\n",
      "82425    AK             2.0\n",
      "82434    AK             2.0\n",
      "82497    AK             3.0\n",
      "82627    AK             2.0\n",
      "82628    AK             2.0\n",
      "82694    AK             2.0\n",
      "82695    AK             2.0\n",
      "82804    AK             3.0\n",
      "82815    AK             2.0\n",
      "82816    AK             3.0\n",
      "82888    AK             3.0\n",
      "82992    AK             2.0\n",
      "82993    AK             4.0\n",
      "83189    AK             2.0\n",
      "83190    AK             3.0\n",
      "83213    AK             6.0\n",
      "83298    AK             2.0\n",
      "83417    AK             3.0\n",
      "83522    AK             2.0\n",
      "83546    AK             2.0\n",
      "83582    AK             2.0\n",
      "83638    AK             2.0\n",
      "83664    AK            36.0\n",
      "83723    AK             2.0\n",
      "83886    AK             2.0\n",
      "83901    AK             2.0\n",
      "83912    AK             4.0\n",
      "\n",
      "[2470 rows x 2 columns]\n"
     ]
    }
   ],
   "source": [
    "#setting condtions, compared with either string or int.\n",
    "q = 'State==AK'\n",
    "p = 'TotalUninjured>=2'\n",
    "\n",
    "#call query function in DataManagement module and return a dataframe\n",
    "df = dm.column_query(df, q,p)\n",
    "\n",
    "#check conditioned columns\n",
    "print(df[['State','TotalUninjured']])"
   ]
  },
  {
   "cell_type": "code",
   "execution_count": 6,
   "metadata": {},
   "outputs": [
    {
     "name": "stdout",
     "output_type": "stream",
     "text": [
      "Process and plot user queried data by location within selected time range or default time range.\n",
      "From:[TotalFatalInjuries, TotalSeriousInjuries, TotalMinorInjuries, TotalUninjured]TotalSeriousInjuries\n",
      "Enter start date as YYYYMMDD.20000101\n",
      "Enter end date as YYYYMMDD.20100101\n"
     ]
    },
    {
     "name": "stderr",
     "output_type": "stream",
     "text": [
      "/Users/tianyizhang/cse583/AviationAccidentDataVisualizer/aadv/modules/visualizer.py:233: SettingWithCopyWarning: \n",
      "A value is trying to be set on a copy of a slice from a DataFrame.\n",
      "Try using .loc[row_indexer,col_indexer] = value instead\n",
      "\n",
      "See the caveats in the documentation: http://pandas.pydata.org/pandas-docs/stable/indexing.html#indexing-view-versus-copy\n",
      "  df2[\"EventDate\"] = pd.to_datetime(df2[\"EventDate\"])\n"
     ]
    },
    {
     "data": {
      "text/html": [
       "<div style=\"width:100%;\"><div style=\"position:relative;width:100%;height:0;padding-bottom:60%;\"><iframe src=\"data:text/html;charset=utf-8;base64,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\" style=\"position:absolute;width:100%;height:100%;left:0;top:0;border:none !important;\" allowfullscreen webkitallowfullscreen mozallowfullscreen></iframe></div></div>"
      ],
      "text/plain": [
       "<folium.folium.Map at 0x10ed5a048>"
      ]
     },
     "execution_count": 6,
     "metadata": {},
     "output_type": "execute_result"
    }
   ],
   "source": [
    "#heatmap visualization\n",
    "vis.time_ranged_heat_map(df)"
   ]
  },
  {
   "cell_type": "code",
   "execution_count": 14,
   "metadata": {},
   "outputs": [
    {
     "name": "stdout",
     "output_type": "stream",
     "text": [
      "Process and plot user queried data by states in US...\n",
      "From:[TotalFatalInjuries, TotalSeriousInjuries, TotalMinorInjuries, TotalUninjured, TotalAccidentNumber]TotalFatalInjuries\n"
     ]
    },
    {
     "ename": "FileNotFoundError",
     "evalue": "[Errno 2] No such file or directory: '/Users/tianyizhang/data/usstates.json'",
     "output_type": "error",
     "traceback": [
      "\u001b[0;31m---------------------------------------------------------------------------\u001b[0m",
      "\u001b[0;31mFileNotFoundError\u001b[0m                         Traceback (most recent call last)",
      "\u001b[0;32m<ipython-input-14-f06890f92bcf>\u001b[0m in \u001b[0;36m<module>\u001b[0;34m\u001b[0m\n\u001b[0;32m----> 1\u001b[0;31m \u001b[0mvis\u001b[0m\u001b[0;34m.\u001b[0m\u001b[0mmap_by_states\u001b[0m\u001b[0;34m(\u001b[0m\u001b[0mdf\u001b[0m\u001b[0;34m)\u001b[0m\u001b[0;34m\u001b[0m\u001b[0;34m\u001b[0m\u001b[0m\n\u001b[0m",
      "\u001b[0;32m~/cse583/AviationAccidentDataVisualizer/aadv/modules/visualizer.py\u001b[0m in \u001b[0;36mmap_by_states\u001b[0;34m(df)\u001b[0m\n\u001b[1;32m    210\u001b[0m         \u001b[0mkey_on\u001b[0m\u001b[0;34m=\u001b[0m\u001b[0;34m'feature.properties.name'\u001b[0m\u001b[0;34m,\u001b[0m\u001b[0;34m\u001b[0m\u001b[0;34m\u001b[0m\u001b[0m\n\u001b[1;32m    211\u001b[0m         \u001b[0mfill_color\u001b[0m\u001b[0;34m=\u001b[0m\u001b[0;34m'YlGn'\u001b[0m\u001b[0;34m,\u001b[0m\u001b[0;34m\u001b[0m\u001b[0;34m\u001b[0m\u001b[0m\n\u001b[0;32m--> 212\u001b[0;31m         \u001b[0mfill_opacity\u001b[0m\u001b[0;34m=\u001b[0m\u001b[0;36m0.7\u001b[0m\u001b[0;34m,\u001b[0m\u001b[0;34m\u001b[0m\u001b[0;34m\u001b[0m\u001b[0m\n\u001b[0m\u001b[1;32m    213\u001b[0m         \u001b[0mline_opacity\u001b[0m\u001b[0;34m=\u001b[0m\u001b[0;36m0.2\u001b[0m\u001b[0;34m,\u001b[0m\u001b[0;34m\u001b[0m\u001b[0;34m\u001b[0m\u001b[0m\n\u001b[1;32m    214\u001b[0m         \u001b[0mlegend_name\u001b[0m\u001b[0;34m=\u001b[0m\u001b[0mtag\u001b[0m\u001b[0;34m\u001b[0m\u001b[0;34m\u001b[0m\u001b[0m\n",
      "\u001b[0;32m~/anaconda3/lib/python3.7/site-packages/folium/folium.py\u001b[0m in \u001b[0;36mchoropleth\u001b[0;34m(self, *args, **kwargs)\u001b[0m\n\u001b[1;32m    416\u001b[0m         )\n\u001b[1;32m    417\u001b[0m         \u001b[0;32mfrom\u001b[0m \u001b[0mfolium\u001b[0m\u001b[0;34m.\u001b[0m\u001b[0mfeatures\u001b[0m \u001b[0;32mimport\u001b[0m \u001b[0mChoropleth\u001b[0m\u001b[0;34m\u001b[0m\u001b[0;34m\u001b[0m\u001b[0m\n\u001b[0;32m--> 418\u001b[0;31m         \u001b[0mself\u001b[0m\u001b[0;34m.\u001b[0m\u001b[0madd_child\u001b[0m\u001b[0;34m(\u001b[0m\u001b[0mChoropleth\u001b[0m\u001b[0;34m(\u001b[0m\u001b[0;34m*\u001b[0m\u001b[0margs\u001b[0m\u001b[0;34m,\u001b[0m \u001b[0;34m**\u001b[0m\u001b[0mkwargs\u001b[0m\u001b[0;34m)\u001b[0m\u001b[0;34m)\u001b[0m\u001b[0;34m\u001b[0m\u001b[0;34m\u001b[0m\u001b[0m\n\u001b[0m\u001b[1;32m    419\u001b[0m \u001b[0;34m\u001b[0m\u001b[0m\n\u001b[1;32m    420\u001b[0m     \u001b[0;32mdef\u001b[0m \u001b[0mkeep_in_front\u001b[0m\u001b[0;34m(\u001b[0m\u001b[0mself\u001b[0m\u001b[0;34m,\u001b[0m \u001b[0;34m*\u001b[0m\u001b[0margs\u001b[0m\u001b[0;34m)\u001b[0m\u001b[0;34m:\u001b[0m\u001b[0;34m\u001b[0m\u001b[0;34m\u001b[0m\u001b[0m\n",
      "\u001b[0;32m~/anaconda3/lib/python3.7/site-packages/folium/features.py\u001b[0m in \u001b[0;36m__init__\u001b[0;34m(self, geo_data, data, columns, key_on, bins, fill_color, nan_fill_color, fill_opacity, nan_fill_opacity, line_color, line_weight, line_opacity, name, legend_name, overlay, control, show, topojson, smooth_factor, highlight, **kwargs)\u001b[0m\n\u001b[1;32m   1156\u001b[0m                 \u001b[0mstyle_function\u001b[0m\u001b[0;34m=\u001b[0m\u001b[0mstyle_function\u001b[0m\u001b[0;34m,\u001b[0m\u001b[0;34m\u001b[0m\u001b[0;34m\u001b[0m\u001b[0m\n\u001b[1;32m   1157\u001b[0m                 \u001b[0msmooth_factor\u001b[0m\u001b[0;34m=\u001b[0m\u001b[0msmooth_factor\u001b[0m\u001b[0;34m,\u001b[0m\u001b[0;34m\u001b[0m\u001b[0;34m\u001b[0m\u001b[0m\n\u001b[0;32m-> 1158\u001b[0;31m                 highlight_function=highlight_function if highlight else None)\n\u001b[0m\u001b[1;32m   1159\u001b[0m \u001b[0;34m\u001b[0m\u001b[0m\n\u001b[1;32m   1160\u001b[0m         \u001b[0mself\u001b[0m\u001b[0;34m.\u001b[0m\u001b[0madd_child\u001b[0m\u001b[0;34m(\u001b[0m\u001b[0mself\u001b[0m\u001b[0;34m.\u001b[0m\u001b[0mgeojson\u001b[0m\u001b[0;34m)\u001b[0m\u001b[0;34m\u001b[0m\u001b[0;34m\u001b[0m\u001b[0m\n",
      "\u001b[0;32m~/anaconda3/lib/python3.7/site-packages/folium/features.py\u001b[0m in \u001b[0;36m__init__\u001b[0;34m(self, data, style_function, highlight_function, name, overlay, control, show, smooth_factor, tooltip, embed)\u001b[0m\n\u001b[1;32m    450\u001b[0m         \u001b[0mself\u001b[0m\u001b[0;34m.\u001b[0m\u001b[0mhighlight\u001b[0m \u001b[0;34m=\u001b[0m \u001b[0mhighlight_function\u001b[0m \u001b[0;32mis\u001b[0m \u001b[0;32mnot\u001b[0m \u001b[0;32mNone\u001b[0m\u001b[0;34m\u001b[0m\u001b[0;34m\u001b[0m\u001b[0m\n\u001b[1;32m    451\u001b[0m \u001b[0;34m\u001b[0m\u001b[0m\n\u001b[0;32m--> 452\u001b[0;31m         \u001b[0mself\u001b[0m\u001b[0;34m.\u001b[0m\u001b[0mdata\u001b[0m \u001b[0;34m=\u001b[0m \u001b[0mself\u001b[0m\u001b[0;34m.\u001b[0m\u001b[0mprocess_data\u001b[0m\u001b[0;34m(\u001b[0m\u001b[0mdata\u001b[0m\u001b[0;34m)\u001b[0m\u001b[0;34m\u001b[0m\u001b[0;34m\u001b[0m\u001b[0m\n\u001b[0m\u001b[1;32m    453\u001b[0m \u001b[0;34m\u001b[0m\u001b[0m\n\u001b[1;32m    454\u001b[0m         \u001b[0;32mif\u001b[0m \u001b[0mself\u001b[0m\u001b[0;34m.\u001b[0m\u001b[0mstyle\u001b[0m \u001b[0;32mor\u001b[0m \u001b[0mself\u001b[0m\u001b[0;34m.\u001b[0m\u001b[0mhighlight\u001b[0m\u001b[0;34m:\u001b[0m\u001b[0;34m\u001b[0m\u001b[0;34m\u001b[0m\u001b[0m\n",
      "\u001b[0;32m~/anaconda3/lib/python3.7/site-packages/folium/features.py\u001b[0m in \u001b[0;36mprocess_data\u001b[0;34m(self, data)\u001b[0m\n\u001b[1;32m    485\u001b[0m                 \u001b[0;32mif\u001b[0m \u001b[0;32mnot\u001b[0m \u001b[0mself\u001b[0m\u001b[0;34m.\u001b[0m\u001b[0membed\u001b[0m\u001b[0;34m:\u001b[0m\u001b[0;34m\u001b[0m\u001b[0;34m\u001b[0m\u001b[0m\n\u001b[1;32m    486\u001b[0m                     \u001b[0mself\u001b[0m\u001b[0;34m.\u001b[0m\u001b[0membed_link\u001b[0m \u001b[0;34m=\u001b[0m \u001b[0mdata\u001b[0m\u001b[0;34m\u001b[0m\u001b[0;34m\u001b[0m\u001b[0m\n\u001b[0;32m--> 487\u001b[0;31m                 \u001b[0;32mwith\u001b[0m \u001b[0mopen\u001b[0m\u001b[0;34m(\u001b[0m\u001b[0mdata\u001b[0m\u001b[0;34m)\u001b[0m \u001b[0;32mas\u001b[0m \u001b[0mf\u001b[0m\u001b[0;34m:\u001b[0m\u001b[0;34m\u001b[0m\u001b[0;34m\u001b[0m\u001b[0m\n\u001b[0m\u001b[1;32m    488\u001b[0m                     \u001b[0;32mreturn\u001b[0m \u001b[0mjson\u001b[0m\u001b[0;34m.\u001b[0m\u001b[0mloads\u001b[0m\u001b[0;34m(\u001b[0m\u001b[0mf\u001b[0m\u001b[0;34m.\u001b[0m\u001b[0mread\u001b[0m\u001b[0;34m(\u001b[0m\u001b[0;34m)\u001b[0m\u001b[0;34m)\u001b[0m\u001b[0;34m\u001b[0m\u001b[0;34m\u001b[0m\u001b[0m\n\u001b[1;32m    489\u001b[0m         \u001b[0;32melif\u001b[0m \u001b[0mhasattr\u001b[0m\u001b[0;34m(\u001b[0m\u001b[0mdata\u001b[0m\u001b[0;34m,\u001b[0m \u001b[0;34m'__geo_interface__'\u001b[0m\u001b[0;34m)\u001b[0m\u001b[0;34m:\u001b[0m\u001b[0;34m\u001b[0m\u001b[0;34m\u001b[0m\u001b[0m\n",
      "\u001b[0;31mFileNotFoundError\u001b[0m: [Errno 2] No such file or directory: '/Users/tianyizhang/data/usstates.json'"
     ]
    }
   ],
   "source": [
    "vis.map_by_states(df)"
   ]
  },
  {
   "cell_type": "code",
   "execution_count": 11,
   "metadata": {},
   "outputs": [
    {
     "name": "stdout",
     "output_type": "stream",
     "text": [
      "Enter One Y-axis Element: [TotalFatalInjuries, TotalSeriousInjuries,TotalMinorInjuries, TotalUninjured,TotalAccidentNumber]TotalFatalInjuries\n",
      "Continue? n\n"
     ]
    },
    {
     "data": {
      "image/png": "[encoded data removed]",
      "text/plain": [
       "<Figure size 432x288 with 1 Axes>"
      ]
     },
     "metadata": {
      "needs_background": "light"
     },
     "output_type": "display_data"
    }
   ],
   "source": [
    "vis.linear_plot(df)"
   ]
  },
  {
   "cell_type": "code",
   "execution_count": null,
   "metadata": {},
   "outputs": [],
   "source": []
  }
 ],
 "metadata": {
  "kernelspec": {
   "display_name": "Python 3",
   "language": "python",
   "name": "python3"
  },
  "language_info": {
   "codemirror_mode": {
    "name": "ipython",
    "version": 3
   },
   "file_extension": ".py",
   "mimetype": "text/x-python",
   "name": "python",
   "nbconvert_exporter": "python",
   "pygments_lexer": "ipython3",
   "version": "3.7.1"
  }
 },
 "nbformat": 4,
 "nbformat_minor": 2
}
